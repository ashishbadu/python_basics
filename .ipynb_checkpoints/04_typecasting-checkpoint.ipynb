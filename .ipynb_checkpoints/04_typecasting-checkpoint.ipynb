{
 "cells": [
  {
   "cell_type": "code",
   "execution_count": 1,
   "id": "6c8251dc-07fb-4c25-b389-2c69c1fd60ff",
   "metadata": {},
   "outputs": [],
   "source": [
    "# .N.5) Explain the concept of type casting in python with examples.\n",
    "#  ans typecasting is used to conert one data type into another such as str(), int() , float() etc"
   ]
  },
  {
   "cell_type": "code",
   "execution_count": 8,
   "id": "4d47a7d9-3d08-4263-baac-27e85a421a76",
   "metadata": {},
   "outputs": [
    {
     "name": "stdin",
     "output_type": "stream",
     "text": [
      "enter your age 43\n"
     ]
    },
    {
     "name": "stdout",
     "output_type": "stream",
     "text": [
      "43\n"
     ]
    },
    {
     "data": {
      "text/plain": [
       "int"
      ]
     },
     "execution_count": 8,
     "metadata": {},
     "output_type": "execute_result"
    }
   ],
   "source": [
    "# conversion of str into int\n",
    "age = (input(\"enter your age\")) #takes input as string type\n",
    " \n",
    "my_age = int(age)\n",
    "print(my_age)\n",
    "type(my_age)\n",
    "\n"
   ]
  },
  {
   "cell_type": "code",
   "execution_count": 10,
   "id": "0d522726-6484-444a-afe8-6dc0b32b7703",
   "metadata": {},
   "outputs": [
    {
     "name": "stdout",
     "output_type": "stream",
     "text": [
      "45.0\n"
     ]
    }
   ],
   "source": [
    "# conversion of int into float\n",
    "a = 45\n",
    "print(float(a)) #output: 45.0"
   ]
  },
  {
   "cell_type": "code",
   "execution_count": null,
   "id": "eb7ec33a-52a5-4620-a7ab-3a78dbe57713",
   "metadata": {},
   "outputs": [],
   "source": []
  }
 ],
 "metadata": {
  "kernelspec": {
   "display_name": "Python 3 (ipykernel)",
   "language": "python",
   "name": "python3"
  },
  "language_info": {
   "codemirror_mode": {
    "name": "ipython",
    "version": 3
   },
   "file_extension": ".py",
   "mimetype": "text/x-python",
   "name": "python",
   "nbconvert_exporter": "python",
   "pygments_lexer": "ipython3",
   "version": "3.10.8"
  }
 },
 "nbformat": 4,
 "nbformat_minor": 5
}
