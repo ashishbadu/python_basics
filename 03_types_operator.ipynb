{
 "cells": [
  {
   "cell_type": "code",
   "execution_count": 1,
   "id": "b7f67517-769a-4406-bd8e-ab7f36bed1a7",
   "metadata": {},
   "outputs": [],
   "source": [
    "# Q.N.4) Discuss the different types of operators in python and provide examples how they are used ?\n"
   ]
  },
  {
   "cell_type": "code",
   "execution_count": 4,
   "id": "05f84306-472c-4c10-972e-b70904bb0319",
   "metadata": {},
   "outputs": [
    {
     "name": "stdout",
     "output_type": "stream",
     "text": [
      "105\n",
      "35\n",
      "2.0\n",
      "2450\n",
      "0\n"
     ]
    }
   ],
   "source": [
    "# arithmetic operator:  + , - , * , /, %\n",
    "a = 70 \n",
    "b = 35\n",
    "add = a + b\n",
    "sub = a - b\n",
    "div = a / b\n",
    "mul = a * b \n",
    "mod = a % b\n",
    "print(add)\n",
    "print(sub)\n",
    "print(div)\n",
    "print(mul)\n",
    "print(mod)\n",
    "\n"
   ]
  },
  {
   "cell_type": "code",
   "execution_count": 6,
   "id": "8d27e2f8-7969-4c1a-a9f5-d965e942b502",
   "metadata": {},
   "outputs": [
    {
     "name": "stdout",
     "output_type": "stream",
     "text": [
      "97\n"
     ]
    }
   ],
   "source": [
    "# comparison operator: > ,< , >= , <= , == \n",
    "a = 97 \n",
    "b = 67\n",
    "if a > b:\n",
    "    print(a)\n",
    "else: \n",
    "    print(b)"
   ]
  },
  {
   "cell_type": "code",
   "execution_count": 7,
   "id": "2741f665-b28c-44ce-afb6-1445cd3e4c68",
   "metadata": {},
   "outputs": [
    {
     "name": "stdout",
     "output_type": "stream",
     "text": [
      "345\n"
     ]
    }
   ],
   "source": [
    "# logical operator: and, or , not\n",
    "a = 97 \n",
    "b = 67\n",
    "c = 345\n",
    "if (a>b) and (a>c): \n",
    "    print(a)\n",
    "elif(b>a) and (b>c):\n",
    "    print(b)\n",
    "else: \n",
    "    print(c)\n"
   ]
  },
  {
   "cell_type": "code",
   "execution_count": 14,
   "id": "2ed13d00-6b88-4be3-a59c-e185bcc8a25e",
   "metadata": {},
   "outputs": [
    {
     "name": "stdin",
     "output_type": "stream",
     "text": [
      "enter your age 18\n"
     ]
    },
    {
     "name": "stdout",
     "output_type": "stream",
     "text": [
      "you are eligible for voter card\n"
     ]
    }
   ],
   "source": [
    "# or operator : if one one condition is true, the 'or' operator returns true\n",
    "age = int(input(\"enter your age\"))\n",
    "if (age>= 18) or (age <= 60):\n",
    "    print(\"you are eligible for voter card\")\n",
    "else: \n",
    "    print(\"you are not eligible\") "
   ]
  },
  {
   "cell_type": "code",
   "execution_count": null,
   "id": "fb6aeec1-51d7-44ed-8f0f-e18c20995cf4",
   "metadata": {},
   "outputs": [],
   "source": []
  }
 ],
 "metadata": {
  "kernelspec": {
   "display_name": "Python 3 (ipykernel)",
   "language": "python",
   "name": "python3"
  },
  "language_info": {
   "codemirror_mode": {
    "name": "ipython",
    "version": 3
   },
   "file_extension": ".py",
   "mimetype": "text/x-python",
   "name": "python",
   "nbconvert_exporter": "python",
   "pygments_lexer": "ipython3",
   "version": "3.10.8"
  }
 },
 "nbformat": 4,
 "nbformat_minor": 5
}
