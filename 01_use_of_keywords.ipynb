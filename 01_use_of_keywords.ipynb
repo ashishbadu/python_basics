{
 "cells": [
  {
   "cell_type": "code",
   "execution_count": 1,
   "id": "756b49ed-b32b-4779-b8d6-0d597e0ead95",
   "metadata": {},
   "outputs": [],
   "source": [
    "# Q.N.2) Describe the role of predefined keywords in Python and provide examples of how they are used in a program?\n"
   ]
  },
  {
   "cell_type": "code",
   "execution_count": 2,
   "id": "670c9dc9-f46c-41c5-8933-4edd8f314c90",
   "metadata": {},
   "outputs": [
    {
     "name": "stdin",
     "output_type": "stream",
     "text": [
      "enter first number 45\n",
      "enter your second number 34\n"
     ]
    },
    {
     "name": "stdout",
     "output_type": "stream",
     "text": [
      "a is greater: 45\n"
     ]
    }
   ],
   "source": [
    "# use case of predefined keyword \" if-else\" in program.\n",
    "a = input(\"enter first number\")\n",
    "b = input(\"enter your second number\")\n",
    "if (a>b):\n",
    "    print(\"a is greater:\",a)\n",
    "else:\n",
    "    print(\"b is greater\",b)"
   ]
  },
  {
   "cell_type": "code",
   "execution_count": 4,
   "id": "9dde4ec9-a694-465c-9660-f36af26f2e2c",
   "metadata": {},
   "outputs": [
    {
     "name": "stdout",
     "output_type": "stream",
     "text": [
      "0\n",
      "1\n",
      "2\n",
      "3\n",
      "4\n",
      "5\n",
      "6\n",
      "7\n",
      "8\n",
      "9\n"
     ]
    }
   ],
   "source": [
    "# for loop \n",
    "for i in range(10):\n",
    "    print(i)"
   ]
  },
  {
   "cell_type": "code",
   "execution_count": null,
   "id": "40de0099-3e75-43fa-8813-58de25c74079",
   "metadata": {},
   "outputs": [
    {
     "name": "stdout",
     "output_type": "stream",
     "text": [
      "4.0\n",
      "3.141592653589793\n",
      "0.0\n",
      "2024-06-24 16:38:15.072821\n"
     ]
    }
   ],
   "source": [
    "# import, from, as\n",
    "import math\n",
    "print(math.sqrt(16))  \n",
    "\n",
    "from math import pi, sin\n",
    "print(pi) \n",
    "print(sin(0))\n",
    "\n",
    "import datetime as dt\n",
    "print(dt.datetime.now())"
   ]
  }
 ],
 "metadata": {
  "kernelspec": {
   "display_name": "Python 3 (ipykernel)",
   "language": "python",
   "name": "python3"
  },
  "language_info": {
   "codemirror_mode": {
    "name": "ipython",
    "version": 3
   },
   "file_extension": ".py",
   "mimetype": "text/x-python",
   "name": "python",
   "nbconvert_exporter": "python",
   "pygments_lexer": "ipython3",
   "version": "3.10.8"
  }
 },
 "nbformat": 4,
 "nbformat_minor": 5
}
