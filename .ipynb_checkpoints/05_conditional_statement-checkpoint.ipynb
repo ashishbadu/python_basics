{
 "cells": [
  {
   "cell_type": "code",
   "execution_count": 13,
   "id": "b86c52f6-3a1c-462d-9c21-337da824fa72",
   "metadata": {},
   "outputs": [
    {
     "name": "stdin",
     "output_type": "stream",
     "text": [
      "Enter your age:  34\n"
     ]
    },
    {
     "name": "stdout",
     "output_type": "stream",
     "text": [
      "You are young.\n"
     ]
    }
   ],
   "source": [
    "# Q.N.6) How do conditional statements work in python? Illustrate with suitable examples. \n",
    "# conditional statement used to excute certain block of code if condition is true.\n",
    "age = int(input(\"Enter your age: \"))\n",
    "\n",
    "if 0 <= age <= 18:\n",
    "    print(\"You are a child.\")\n",
    "elif 19 <= age < 50:\n",
    "    print(\"You are young.\")\n",
    "else:\n",
    "    print(\"You are aged.\")"
   ]
  },
  {
   "cell_type": "code",
   "execution_count": 17,
   "id": "c02094a2-2e25-4180-b340-c616750a3a63",
   "metadata": {},
   "outputs": [
    {
     "name": "stdout",
     "output_type": "stream",
     "text": [
      "['ashish', 'keshav', 'anjali']\n"
     ]
    }
   ],
   "source": [
    "my_list = [ \"ashish\" , \"keshav\" , \"anjali\" ] \n",
    "if \"ashish\" in my_list:\n",
    "    print(my_list)\n",
    "else:\n",
    "    print(\"wrong name\")"
   ]
  },
  {
   "cell_type": "code",
   "execution_count": null,
   "id": "68024c17-d3d4-44a3-85cd-20111733dabf",
   "metadata": {},
   "outputs": [],
   "source": []
  }
 ],
 "metadata": {
  "kernelspec": {
   "display_name": "Python 3 (ipykernel)",
   "language": "python",
   "name": "python3"
  },
  "language_info": {
   "codemirror_mode": {
    "name": "ipython",
    "version": 3
   },
   "file_extension": ".py",
   "mimetype": "text/x-python",
   "name": "python",
   "nbconvert_exporter": "python",
   "pygments_lexer": "ipython3",
   "version": "3.10.8"
  }
 },
 "nbformat": 4,
 "nbformat_minor": 5
}
